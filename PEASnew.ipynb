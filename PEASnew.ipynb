{
 "cells": [
  {
   "cell_type": "code",
   "execution_count": 1,
   "id": "cbbf181b",
   "metadata": {},
   "outputs": [],
   "source": [
    "import random\n",
    "import time\n",
    "\n",
    "\n",
    "class Thing: \n",
    "    \"\"\"\n",
    "    This represents any physical object that can appear in an Environment. \"\"\"\n",
    "\n",
    "    def is_alive(self):\n",
    "        \"\"\"Things that are 'alive' should return true.\"\"\"\n",
    "        return hasattr(self, \"alive\") and self.alive\n",
    "\n",
    "    def show_state(self):\n",
    "        \"\"\"Display the agent's internal state. Subclasses should override.\"\"\"\n",
    "        print(\"I don't know how to show_state.\")"
   ]
  },
  {
   "cell_type": "code",
   "execution_count": 2,
   "id": "068fa3ac",
   "metadata": {},
   "outputs": [],
   "source": [
    "class Agent(Thing):\n",
    "    \n",
    "    \"\"\"\n",
    "        An Agent is a subclass of Thing \"\"\"\n",
    "\n",
    "    def __init__(self, program=None):\n",
    "        self.alive = True\n",
    "        self.performance = 0 \n",
    "        self.program = program\n",
    "\n",
    "    def can_grab(self, thing):\n",
    "        \"\"\"Return True if this agent can grab this thing. Override for appropriate subclasses of Agent and Thing.\"\"\" \n",
    "        return False"
   ]
  },
  {
   "cell_type": "code",
   "execution_count": 3,
   "id": "c4f0bfac",
   "metadata": {},
   "outputs": [],
   "source": [
    "def TableDrivenAgentProgram(table): \n",
    "    \"\"\"\n",
    "    [Figure 2.7]\n",
    "    This agent selects an action based on the percept sequence. It is practical only for tiny domains.\n",
    "    To customize it, provide as table a dictionary of all\n",
    "    {percept_sequence:action} pairs. \"\"\"\n",
    "    percepts = []\n",
    "    \n",
    "\n",
    "    def program(percept):\n",
    "        action = None\n",
    "        percepts.append(percept)\n",
    "        action = table.get(tuple(percepts))\n",
    "        return action \n",
    "    return program\n"
   ]
  },
  {
   "cell_type": "code",
   "execution_count": 4,
   "id": "b36f34b8",
   "metadata": {},
   "outputs": [],
   "source": [
    "room_A, room_B = (0,0), (1,0) # The two locations for the Doctor to treat"
   ]
  },
  {
   "cell_type": "code",
   "execution_count": 5,
   "id": "e5a5e703",
   "metadata": {},
   "outputs": [],
   "source": [
    "def TableDrivenDoctorAgent():\n",
    "    \"\"\"\n",
    "    Tabular approach towards hospital function. \n",
    "    \"\"\"\n",
    "        \n",
    "    table = {\n",
    "    ((room_A, \"healthy\"),): \"Right\",\n",
    "    ((room_A, \"unhealthy\"),): \"treat\",\n",
    "    ((room_B, \"healthy\"),): \"Left\",\n",
    "    ((room_B, \"unhealthy\"),): \"treat\",\n",
    "    ((room_A, \"unhealthy\"), (room_A, \"healthy\")): \"Right\",\n",
    "    ((room_A, \"healthy\"), (room_B, \"unhealthy\")): \"treat\",\n",
    "    ((room_B, \"healthy\"), (room_A, \"unhealthy\")): \"treat\",\n",
    "    ((room_B, \"unhealthy\"), (room_B, \"healthy\")): \"Left\",\n",
    "    ((room_A, \"unhealthy\"), (room_A, \"healthy\"), (room_B, \"unhealthy\")): \"treat\",\n",
    "    ((room_B, \"unhealthy\"), (room_B, \"healthy\"), (room_A, \"unhealthy\")): \"treat\",\n",
    "    }\n",
    "    return Agent(TableDrivenAgentProgram(table))\n"
   ]
  },
  {
   "cell_type": "code",
   "execution_count": 6,
   "id": "f43f8c9d",
   "metadata": {},
   "outputs": [
    {
     "data": {
      "text/plain": [
       "<__main__.Agent at 0x235954a1a00>"
      ]
     },
     "execution_count": 6,
     "metadata": {},
     "output_type": "execute_result"
    }
   ],
   "source": [
    "TableDrivenDoctorAgent()"
   ]
  },
  {
   "cell_type": "code",
   "execution_count": null,
   "id": "09662dbb",
   "metadata": {},
   "outputs": [],
   "source": []
  },
  {
   "cell_type": "code",
   "execution_count": 7,
   "id": "85f47933",
   "metadata": {},
   "outputs": [],
   "source": [
    "class Environment:\n",
    "    \"\"\"Abstract class representing an Environment. 'Real' Environment classes inherit from this. Your Environment will typically need to implement:\n",
    "    percept:\tDefine the percept that an agent sees. execute_action:\tDefine the effects of executing an action.\n",
    "    Also update the agent.performance slot.\n",
    "    The environment keeps a list of .things and .agents (which is a subset of .things). Each agent has a .performance slot, initialized to 0.\n",
    "    Each thing has a .location slot, even though some environments may not need this.\"\"\"\n",
    "\n",
    "    def __init__(self):\n",
    "        self.things = [] \n",
    "        self.agents = []\n",
    "        #room_A, room_B = (0,0), (1,0) # The two locations for the Doctor to treat\n",
    "\n",
    "    def percept(self, agent):\n",
    "        \"\"\"Return the percept that the agent sees at this point. (Implement this.)\"\"\"\n",
    "        raise NotImplementedError\n",
    "\n",
    "    def execute_action(self, agent, action):\n",
    "        \"\"\"Change the world to reflect this action. (Implement this.)\"\"\" \n",
    "        raise NotImplementedError\n",
    "\n",
    "    def default_location(self, thing):\n",
    "        \"\"\"Default location to place a new thing with unspecified location.\"\"\"\n",
    "        return None\n",
    "\n",
    "    def is_done(self):\n",
    "        \"\"\"By default, we're done when we can't find a live agent.\"\"\" \n",
    "        return not any(agent.is_alive() for agent in self.agents)\n",
    "\n",
    "    def step(self):\n",
    "        \"\"\"Run the environment for one time step. If the\n",
    "        actions and exogenous changes are independent, this method will do. If there are interactions between them, you'll need to override this method.\"\"\"\n",
    "        if not self.is_done(): \n",
    "            actions = []\n",
    "            for agent in self.agents:\n",
    "                if agent.alive:\n",
    "                    actions.append(agent.program(self.percept(agent))) \n",
    "                else:\n",
    "                    actions.append(\"\")\n",
    "            for (agent, action) in zip(self.agents, actions): \n",
    "                self.execute_action(agent, action)\n",
    "\n",
    "    def run(self, steps=1000):\n",
    "        \"\"\"Run the Environment for given number of time steps.\"\"\"\n",
    "        for step in range(steps):\n",
    "            if self.is_done():\n",
    "                return \n",
    "            self.step()\n",
    "\n",
    "    def add_thing(self, thing, location=None):\n",
    "        \"\"\"Add a thing to the environment, setting its location. For convenience, if thing is an agent program we make a new agent for it. (Shouldn't need to override this.)\"\"\"\n",
    "        if not isinstance(thing, Thing):\n",
    "            thing = Agent(thing)\n",
    "        if thing in self.things:\n",
    "            print(\"Can't add the same thing twice\") \n",
    "        else:\n",
    "            thing.location = (location if location is not None else self.default_location(thing))\n",
    "            self.things.append(thing) \n",
    "            if isinstance(thing, Agent):\n",
    "                thing.performance = 0 \n",
    "                self.agents.append(thing)\n",
    "\n",
    "    def delete_thing(self, thing):\n",
    "        \"\"\"Remove a thing from the environment.\"\"\"\n",
    "        try:\n",
    "            \n",
    "            self.things.remove(thing) \n",
    "        except ValueError as e:\n",
    "            print(e)\n",
    "            print(\" in Environment delete_thing\")\n",
    "            print(\" Thing to be removed: {} at {}\".format(thing, thing.location))\n",
    "            print(\" from list: {}\".format([(thing, thing.location) for thing in self.things]))\n",
    "        if thing in self.agents: \n",
    "            self.agents.remove(thing)"
   ]
  },
  {
   "cell_type": "code",
   "execution_count": 8,
   "id": "7ec19095",
   "metadata": {},
   "outputs": [],
   "source": [
    "\n",
    "class TrivialDoctorEnvironment(Environment):\n",
    "    \"\"\"This environment has two locations, A and B. Each can be unhealthy or healthy. The agent perceives its location and the location's status. This serves as an example of how to implement a simple Environment.\"\"\"\n",
    "\n",
    "    def __init__(self):\n",
    "        super().__init__()\n",
    "        #room_A, room_B = (0,0), (1,0) # The two locations for the Doctor to treat\n",
    "        self.status = {room_A: random.choice([\"healthy\", \"unhealthy\"]), room_B: random.choice([\"healthy\", \"unhealthy\"]),}\n",
    "\n",
    "    def thing_classes(self):\n",
    "        return [TableDrivenDocterAgent]\n",
    "\n",
    "    def percept(self, agent):\n",
    "        \"\"\"Returns the agent's location, and the location status (unhealthy/healthy).\"\"\"\n",
    "        return agent.location, self.status[agent.location]\n",
    "\n",
    "    def execute_action(self, agent, action):\n",
    "        \"\"\"Change agent's location and/or location's status; track performance. Score 10 for each treatment; -1 for each move.\"\"\"\n",
    "        if action == \"Right\":\n",
    "            agent.location = room_B\n",
    "            agent.performance -= 1\n",
    "        elif action == \"Left\":\n",
    "            agent.location = room_A\n",
    "            agent.performance -= 1\n",
    "        elif action == \"treat\":\n",
    "            tem=float(input(\"Enter your temperature\")) \n",
    "            if tem>=98.5:\n",
    "                self.status[agent.location] == \"unhealthy\"\n",
    "                print(\"medicine prescribed: paracetamol and anti-biotic(low dose)\")\n",
    "                agent.performance += 10\n",
    "            else:\n",
    "                self.status[agent.location] = \"healthy\" \n",
    "            self.status[agent.location] = \"healthy\"\n",
    "\n",
    "\n",
    "    def default_location(self, thing):\n",
    "           \n",
    "        return random.choice([room_A, room_B])"
   ]
  },
  {
   "cell_type": "code",
   "execution_count": 9,
   "id": "0a39a340",
   "metadata": {},
   "outputs": [
    {
     "name": "stdout",
     "output_type": "stream",
     "text": [
      "\tStatus of patients in rooms before treatment\n",
      "{(0, 0): 'healthy', (1, 0): 'unhealthy'}\n",
      "AgentLocation : (1, 0)\n",
      "Performance : 0\n"
     ]
    }
   ],
   "source": [
    "if   __name__ == \"__main__\":\n",
    "    \n",
    "    agent = TableDrivenDoctorAgent() \n",
    "    environment = TrivialDoctorEnvironment() \n",
    "    #print(environment)\n",
    "    environment.add_thing(agent)\n",
    "    print(\"\\tStatus of patients in rooms before treatment\")\n",
    "    print(environment.status)\n",
    "    print(\"AgentLocation : {0}\".format(agent.location)) \n",
    "    print(\"Performance : {0}\".format(agent.performance))\n",
    "    time.sleep(3)\n",
    "    for i in range(2):\n",
    "        environment.run(steps=1)\n",
    "        print(\"\\n\\tStatus of patient in room after the treatment\") \n",
    "        print(environment.status)\n",
    "        print(\"AgentLocation : {0}\".format(agent.location)) \n",
    "        print(\"Performance : {0}\".format(agent.performance)) \n",
    "        time.sleep(3)"
   ]
  }
 ],
 "metadata": {
  "kernelspec": {
   "display_name": "Python 3 (ipykernel)",
   "language": "python",
   "name": "python3"
  },
  "language_info": {
   "codemirror_mode": {
    "name": "ipython",
    "version": 3
   },
   "file_extension": ".py",
   "mimetype": "text/x-python",
   "name": "python",
   "nbconvert_exporter": "python",
   "pygments_lexer": "ipython3",
   "version": "3.12.5"
  }
 },
 "nbformat": 4,
 "nbformat_minor": 5
}
